{
  "nbformat": 4,
  "nbformat_minor": 0,
  "metadata": {
    "colab": {
      "provenance": [],
      "private_outputs": true,
      "machine_shape": "hm"
    },
    "kernelspec": {
      "name": "python3",
      "display_name": "Python 3"
    },
    "accelerator": "GPU"
  },
  "cells": [
    {
      "cell_type": "markdown",
      "source": [
        "##Install NVIDIA"
      ],
      "metadata": {
        "id": "TDtopAdEgMoY"
      }
    },
    {
      "cell_type": "code",
      "metadata": {
        "id": "frTeTcy4WdbY"
      },
      "source": [
        "!nvidia-smi"
      ],
      "execution_count": null,
      "outputs": []
    },
    {
      "cell_type": "markdown",
      "source": [
        "##Install Libraries"
      ],
      "metadata": {
        "id": "DL5R5b9HgSd5"
      }
    },
    {
      "cell_type": "code",
      "metadata": {
        "id": "TRZned-8WJrj"
      },
      "source": [
        "#Install necessary libraries\n",
        "!pip install transformers\n",
        "!pip install tensorboardX\n",
        "!pip install sentencepiece"
      ],
      "execution_count": null,
      "outputs": []
    },
    {
      "cell_type": "code",
      "metadata": {
        "id": "qp0Pq9z9Y4S0",
        "cellView": "code"
      },
      "source": [
        "#Import libraries and initialize the model\n",
        "import os\n",
        "import torch\n",
        "import time\n",
        "from torch.utils.data import DataLoader, RandomSampler, SequentialSampler\n",
        "\n",
        "from transformers import (\n",
        "    AlbertConfig,\n",
        "    AlbertForQuestionAnswering,\n",
        "    AlbertTokenizer,\n",
        "    squad_convert_examples_to_features\n",
        ")\n",
        "\n",
        "from transformers.data.processors.squad import SquadResult, SquadV2Processor, SquadExample\n",
        "\n",
        "from transformers.data.metrics.squad_metrics import compute_predictions_logits\n",
        "\n",
        "# READER NOTE: Set this flag to use own model, or use pretrained model in the Hugging Face repository\n",
        "use_own_model = False\n",
        "\n",
        "if use_own_model:\n",
        "  model_name_or_path = \"/content/model_output\"\n",
        "else:\n",
        "  model_name_or_path = \"ktrapeznikov/albert-xlarge-v2-squad-v2\"\n",
        "\n",
        "output_dir = \"\"\n",
        "\n",
        "# Config\n",
        "n_best_size = 1\n",
        "max_answer_length = 30\n",
        "do_lower_case = True\n",
        "null_score_diff_threshold = 0.0\n",
        "\n",
        "def to_list(tensor):\n",
        "    return tensor.detach().cpu().tolist()\n",
        "\n",
        "# Setup model\n",
        "config_class, model_class, tokenizer_class = (\n",
        "    AlbertConfig, AlbertForQuestionAnswering, AlbertTokenizer)\n",
        "config = config_class.from_pretrained(model_name_or_path)\n",
        "tokenizer = tokenizer_class.from_pretrained(\n",
        "    model_name_or_path, do_lower_case=True)\n",
        "model = model_class.from_pretrained(model_name_or_path, config=config)\n",
        "\n",
        "device = torch.device(\"cuda\" if torch.cuda.is_available() else \"cpu\")\n",
        "\n",
        "model.to(device)\n",
        "\n",
        "processor = SquadV2Processor()"
      ],
      "execution_count": null,
      "outputs": []
    },
    {
      "cell_type": "code",
      "source": [
        "# Define functions\n",
        "def run_prediction(question, context_text):\n",
        "    \"\"\"Setup function to compute predictions\"\"\"\n",
        "    examples = []\n",
        "\n",
        "    for i, question_text in enumerate(question):\n",
        "        example = SquadExample(\n",
        "            qas_id=str(i),\n",
        "            question_text=question_text,\n",
        "            context_text=context_text,\n",
        "            answer_text=None,\n",
        "            start_position_character=None,\n",
        "            title=\"Predict\",\n",
        "            is_impossible=False,\n",
        "            answers=None,\n",
        "        )\n",
        "\n",
        "        examples.append(example)\n",
        "\n",
        "    features, dataset = squad_convert_examples_to_features(\n",
        "        examples=examples,\n",
        "        tokenizer=tokenizer,\n",
        "        max_seq_length=384,\n",
        "        doc_stride=128,\n",
        "        max_query_length=64,\n",
        "        is_training=False,\n",
        "        return_dataset=\"pt\",\n",
        "        threads=1,\n",
        "    )\n",
        "\n",
        "    eval_sampler = SequentialSampler(dataset)\n",
        "    eval_dataloader = DataLoader(dataset, sampler=eval_sampler, batch_size=10)\n",
        "\n",
        "    all_results = []\n",
        "\n",
        "    for batch in eval_dataloader:\n",
        "        model.eval()\n",
        "        batch = tuple(t.to(device) for t in batch)\n",
        "\n",
        "        with torch.no_grad():\n",
        "            inputs = {\n",
        "                \"input_ids\": batch[0],\n",
        "                \"attention_mask\": batch[1],\n",
        "                \"token_type_ids\": batch[2],\n",
        "            }\n",
        "\n",
        "            example_indices = batch[3]\n",
        "\n",
        "            outputs = model(**inputs).values()\n",
        "\n",
        "            for i, example_index in enumerate(example_indices):\n",
        "                eval_feature = features[example_index.item()]\n",
        "                unique_id = int(eval_feature.unique_id)\n",
        "\n",
        "                output = [to_list(output[i]) for output in outputs]\n",
        "\n",
        "                start_logits, end_logits = output\n",
        "                result = SquadResult(unique_id, start_logits, end_logits)\n",
        "                all_results.append(result)\n",
        "\n",
        "    output_prediction_file = \"predictions.json\"\n",
        "    output_nbest_file = \"nbest_predictions.json\"\n",
        "    output_null_log_odds_file = \"null_predictions.json\"\n",
        "\n",
        "    predictions = compute_predictions_logits(\n",
        "        examples,\n",
        "        features,\n",
        "        all_results,\n",
        "        n_best_size,\n",
        "        max_answer_length,\n",
        "        do_lower_case,\n",
        "        output_prediction_file,\n",
        "        output_nbest_file,\n",
        "        output_null_log_odds_file,\n",
        "        False,  # verbose_logging\n",
        "        True,  # version_2_with_negative\n",
        "        null_score_diff_threshold,\n",
        "        tokenizer,\n",
        "    )\n",
        "\n",
        "    return predictions"
      ],
      "metadata": {
        "id": "IcSJcf2Ae6Qi"
      },
      "execution_count": null,
      "outputs": []
    },
    {
      "cell_type": "markdown",
      "metadata": {
        "id": "nIQOB8vhpcKs"
      },
      "source": [
        "##Run predictions"
      ]
    },
    {
      "cell_type": "code",
      "source": [
        "full_text = \"\"\"Purpose :\n",
        "The objective of the Employee Referral Programme process document is to provide guidelines necessary to    assist all employees at Techversant who refer talent profiles to the Organization. This program is designed to help source talent, build diversity, and find the right candidates for open positions and to reward our employees for           the right referrals. This programme will encourage all at Techversant to act as talent ambassadors for the Organization. \n",
        "Techversant is an equal opportunity employer with a diverse workforce. All referred candidates will be given the same consideration and will pass through the established process and procedures of the Organization.  \n",
        "Please note that it is not the intent for these guidelines to describe every situation. Management  judgment will / may be necessary in certain sit\n",
        "\n",
        "Scope :\n",
        "The process will be applicable for all referrals hired through the employee referral program, effective 1st October 2021.  It covers… All open positions in the Organization that would fall under Employee Referral Programme as announced by the Talent Acquisition Team and as approved by the Management.  • Special referral schemes catering to critical needs as announced by the Talent Acquisition Team and as approved by the management. \n",
        "\n",
        "Eligibility for referring candidates :\n",
        "All employees of Techversant are eligible to refer candidates under the employee referral program. Referrer should not be involved in the hiring process of the referred candidate (viz. prescreening, interview and offer release). • All those directly involved in the hiring process for the referral positions will not be part of this programme.\n",
        "\n",
        "Process :\n",
        " The employee referral process will be as below: o The Talent Acquisition Team will declare the open positions which would come under the employee referral program. It will have the referral category mentioning the bonus amount for the referral positions and the date until which the program is open for the respective referral bonus along with the other relevant position details.  o Only positions announced under the employee referral bonus programme will be considered for processing.  o The Referral Bonus Amount will be notified for the open positions, based on the criticality and priority of the position, availability in the market, the role and designation of the position and the quality of the candidate hired.  • The Referral Bonus amount could range from INR 5000 to INR 50,000 or an amount as decided by the Talent Acquisition Team and approved by the Management based on the open position.  o All referrals are to be sent to the HR Email id or uploaded to a portal, as notified, along with other relevant details.  o Response emails on the progress of referral would be send to the referrers, as and when an activity happens against the referral o Rejected profiles may get considered only after six (6) months, subject to final approval and  discretion of the Management. \n",
        "\n",
        "Eligibility for Referral Bonus:\n",
        "• All employees are eligible to refer candidates under the employee referral programme. • All employees who are active at the time of the employee referral bonus payment date - both referrer and the referee will need to on rolls with Techversant and not serving the notice period. • All who are directly involved in external recruitment are not eligible • The referral bonus programme is applicable only for permanent employee hires and fixed term consultants. • If the referral candidate joins as contractors, the referrer will be eligible for referral bonus only upon their successful conversion to regular rolls of the company.  • To be eligible for referral bonus, the profile has to be sent to the Talent Acquisition team by the employee at the mentioned email id or portal as applicable. Any application processed without the involvement of the Talent Acquisition team will not be eligible for a referral bonus. • In the event a referral is received through multiple referrers, the first referrer becomes eligible for the referral bonus. The Talent Acquisition Team shall intimate the other referrers before initiating the recruitment process. • Referral bonus will not be applicable for fresher recruitment.  • Referral bonus will not be applicable for positions under the Enabling / Support Functions, unless there is an exception as approved by the Management.  \n",
        "\n",
        "Referral Bonus Payout Details :\n",
        "• The Referral bonus would be paid in the subsequent month payroll once the selected referral completes minimum 6 months or the probation period, whichever is more, at Techversant and upon successful completion of background verification of the referral, as the case may be.  • Both Referrer and Referral should be on Techversant’s payroll at the time of bonus payout  and not serving the notice period o Bonus payment for the employees on long leave would be credited when the employee returns to active duty. • The referral bonus will be paid along with salary and is a taxable income. Any tax applicable will be deducted at source. \n",
        "\n",
        "Authority:\n",
        "The Management and Human Resources Group reserves the right to revise or eliminate this policy. Any such changes will be communicated.  \n",
        "All ‘exceptions’ to the statements of this policy document must be appealed the HR Function Head and will be considered on an individual case basis, subject to review and approval from the Management.\"\"\""
      ],
      "metadata": {
        "id": "WMSjck1V_tKu"
      },
      "execution_count": null,
      "outputs": []
    },
    {
      "cell_type": "code",
      "metadata": {
        "id": "F-sUrcA5nXTH",
        "cellView": "code"
      },
      "source": [
        "questions = [\"What is Employee Referral Programme ?\"]\n",
        "\n",
        "# Run method\n",
        "predictions = run_prediction(questions, full_text)"
      ],
      "execution_count": null,
      "outputs": []
    },
    {
      "cell_type": "code",
      "source": [
        "# Print results\n",
        "print(list(predictions.values())[0])"
      ],
      "metadata": {
        "id": "1-AibBzG3gSL"
      },
      "execution_count": null,
      "outputs": []
    }
  ]
}